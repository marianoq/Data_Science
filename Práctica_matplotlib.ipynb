{
  "nbformat": 4,
  "nbformat_minor": 0,
  "metadata": {
    "colab": {
      "provenance": [],
      "include_colab_link": true
    },
    "kernelspec": {
      "name": "python3",
      "display_name": "Python 3"
    },
    "language_info": {
      "name": "python"
    }
  },
  "cells": [
    {
      "cell_type": "markdown",
      "metadata": {
        "id": "view-in-github",
        "colab_type": "text"
      },
      "source": [
        "<a href=\"https://colab.research.google.com/github/marianoq/data_science/blob/main/Pr%C3%A1ctica_matplotlib.ipynb\" target=\"_parent\"><img src=\"https://colab.research.google.com/assets/colab-badge.svg\" alt=\"Open In Colab\"/></a>"
      ]
    },
    {
      "cell_type": "markdown",
      "metadata": {
        "id": "qr31M5nlP3co"
      },
      "source": [
        "# **Librería Matplotlib**\n",
        "\n",
        "En este notebook, se desarrollarán una serie de tareas utilizando la librería Matplotlib, empleada para la visualización de datos mediante gráficos.\n",
        "\n",
        "Se proponen y documentan posibles formas de resolver los ejercicios, pero pueden existir varias formas de lograr los mismos resultados.\n",
        "\n",
        "Siempre es una buena idea verificar la [Documentación Oficial de Matplotlib](https://matplotlib.org/stable/index.html), donde es posible encontrar todo tipo de información referida a esta librería. Y si te quedas trabado, busca en Google \"como hacer [algo] con Matplotlib\". Hay enormes probabilidades de que esa pregunta ya haya sido respondida!\n",
        "\n",
        "Por ejemplo, si quieres crear un gráfico con `plt.subplots()`, puedes buscar directamente en Google [`plt.subplots()`](https://www.google.com/search?q=plt.subplots())"
      ]
    },
    {
      "cell_type": "code",
      "metadata": {
        "id": "mDcHbWUdP3ct"
      },
      "source": [
        "# Importamos el módulo de Matplotlib como plt\n",
        "\n",
        "# La siguiente linea nos permite ver los gráficos directamente al ejecutarlos en el notebook"
      ],
      "execution_count": null,
      "outputs": []
    },
    {
      "cell_type": "code",
      "metadata": {
        "id": "XLDwACHuP3cu"
      },
      "source": [
        "# Creamos un gráfico utilizando plt.plot()"
      ],
      "execution_count": null,
      "outputs": []
    },
    {
      "cell_type": "code",
      "metadata": {
        "id": "16RIwCGhP3cv"
      },
      "source": [
        "# Graficomos una lista de números"
      ],
      "execution_count": null,
      "outputs": []
    },
    {
      "cell_type": "code",
      "metadata": {
        "id": "ZUjj1-9HP3cw"
      },
      "source": [
        "# Creamos dos listas, x e y. Llenamos a la lista x de valores del 1 al 100.\n",
        "\n",
        "# Los valores de y van a equivaler al cuadrado del respectivo valor en x con el mísmo índice\n"
      ],
      "execution_count": null,
      "outputs": []
    },
    {
      "cell_type": "code",
      "metadata": {
        "id": "iNFj4yz4P3cw"
      },
      "source": [
        "# Graficamos ambas listas creadas"
      ],
      "execution_count": null,
      "outputs": []
    },
    {
      "cell_type": "markdown",
      "metadata": {
        "id": "vLpG8TCeP3cx"
      },
      "source": [
        "Hay otra manera de crear gráficos en Matplotlib, utilizando el método orientado a objetos (OO)."
      ]
    },
    {
      "cell_type": "code",
      "metadata": {
        "id": "TTIxO43NP3cy"
      },
      "source": [
        "# Creamos el gráfico utilizando plt.subplots()"
      ],
      "execution_count": null,
      "outputs": []
    },
    {
      "cell_type": "markdown",
      "metadata": {
        "id": "lc-1Lx3GP3cz"
      },
      "source": [
        "Veamos cómo sería un flujo de trabajo en Matplotlib"
      ]
    },
    {
      "cell_type": "code",
      "metadata": {
        "id": "IvpWnOISP3c0"
      },
      "source": [
        "# Importar y preparar la librería\n",
        "\n",
        "# Preparar los datos\n",
        "\n",
        "# Preparamos el área del gráfico (fig) y el gráfico en sí (ax) utilizando plt.subplots()\n",
        "\n",
        "# Añadimos los datos al gráfico\n",
        "\n",
        "# Personalizamos el gráfico añadiendo título al gráfico y a los ejes x e y\n",
        "\n",
        "# Guardamos nuestro gráfico empleando fig.savefig()\n"
      ],
      "execution_count": null,
      "outputs": []
    },
    {
      "cell_type": "markdown",
      "metadata": {
        "id": "mkpcYhLfP3c2"
      },
      "source": [
        "Veamos ahora un gráfico de dispersión:"
      ]
    },
    {
      "cell_type": "code",
      "metadata": {
        "id": "Tlqks01qP3c2"
      },
      "source": [
        "#creamos un nuveo set de datos utilizando la librería Numpy\n",
        "\n",
        "# Creamos el gráfico de dispersión de x vs y\n"
      ],
      "execution_count": null,
      "outputs": []
    },
    {
      "cell_type": "code",
      "metadata": {
        "id": "SH5ninn9P3c2"
      },
      "source": [
        "# Visualizamos ahora la función seno, utilizando np.sin(X)\n"
      ],
      "execution_count": null,
      "outputs": []
    },
    {
      "cell_type": "markdown",
      "metadata": {
        "id": "fLLEulmbP3c3"
      },
      "source": [
        "Veamos ahora otro tipo de gráfico. Por ejemplo, un gráfico de barras, que por lo general asocia resultados numéricos a variables categóricas (categorías)"
      ]
    },
    {
      "cell_type": "code",
      "metadata": {
        "id": "dNcqaJfBP3c3"
      },
      "source": [
        "# Creemos un diccionario con tres platos y su respectivo precio\n",
        "# Las claves del diccionario serán los nombres de las comidas, y los valores asociados, su precio\n"
      ],
      "execution_count": null,
      "outputs": []
    },
    {
      "cell_type": "code",
      "metadata": {
        "id": "XJDpropyP3c4"
      },
      "source": [
        "# Crearemos un gráfico de barras donde el eje x está formado por las claves del diccionario,\n",
        "# y el eje y contiene los valores.\n",
        "\n",
        "\n",
        "# Añadimos los títulos correspondientes\n"
      ],
      "execution_count": null,
      "outputs": []
    },
    {
      "cell_type": "code",
      "metadata": {
        "id": "b0z5J85yP3c4"
      },
      "source": [
        "# Probemos a continuación con un gráfico de barras horizontales\n"
      ],
      "execution_count": null,
      "outputs": []
    },
    {
      "cell_type": "markdown",
      "metadata": {
        "id": "CVZQOB5JP3c4"
      },
      "source": [
        "Un gráfico semejante es un histograma. Podemos generar números aleatorios que siguen una distribución normal (que se acumulan en torno a un valor central), con la función randn:"
      ]
    },
    {
      "cell_type": "code",
      "metadata": {
        "id": "abklUUImP3c4"
      },
      "source": [
        "# Creamos una distribución de 1000 valores aleatorios distribuidos normalmente\n",
        "\n",
        "# Creamos el histograma\n"
      ],
      "execution_count": null,
      "outputs": []
    },
    {
      "cell_type": "markdown",
      "metadata": {
        "id": "5fp3x7o-P3c5"
      },
      "source": [
        "Veamos ahora un caso más complejo, trabajando con subplots, o figuras que cotienen varios gráficos:"
      ]
    },
    {
      "cell_type": "code",
      "metadata": {
        "id": "dh8GBQ3SP3c5"
      },
      "source": [
        "# Creamos una figura con 4 subgráficos (2 por fila)\n"
      ],
      "execution_count": null,
      "outputs": []
    },
    {
      "cell_type": "markdown",
      "metadata": {
        "id": "PcLw421HP3c5"
      },
      "source": [
        "Añadimos datos a cada uno de los gráficos (axes)"
      ]
    },
    {
      "cell_type": "code",
      "metadata": {
        "id": "t6BcjDjkP3c6"
      },
      "source": [
        "# Creamos la misma disposición de gráficos, con un tamaño de figura de 10x5\n",
        "\n",
        "\n",
        "# Para nuestro primer gráfico, tomamos el conjunto x_1, y_1, y generamos un gráfico de líneas\n",
        "\n",
        "\n",
        "# Para nuestro segundo gráfico, tomamos el conjunto x_2, y_2, y generamos un gráfico de dispersión\n",
        "\n",
        "\n",
        "# Creamos un gráfico con los precios de tres comidas en la esquina inferior izquierda\n",
        "\n",
        "\n",
        "# El gráfico de la esquina inferior derecha será un histograma de valores aleatorios con distribución normal\n",
        "\n"
      ],
      "execution_count": null,
      "outputs": []
    },
    {
      "cell_type": "markdown",
      "metadata": {
        "id": "tufkvgPFP3c-"
      },
      "source": [
        "Matplotlib tiene un conjunto de varios estilos disponibles, podemos verificarlos de la siguiente manera:"
      ]
    },
    {
      "cell_type": "code",
      "metadata": {
        "id": "kjHarWuXP3c-"
      },
      "source": [
        "# Verificamos estilos disponibles\n"
      ],
      "execution_count": null,
      "outputs": []
    },
    {
      "cell_type": "code",
      "metadata": {
        "id": "M4YuEuXNP3c_"
      },
      "source": [
        "# Cambiamos el estilo predeterminado por \"seaborn-whitegrid\"\n"
      ],
      "execution_count": null,
      "outputs": []
    },
    {
      "cell_type": "markdown",
      "metadata": {
        "id": "NHvvSyA3P3c_"
      },
      "source": [
        "Habiendo cambiado el estilo (el cambio más evidente que veremos será una grilla en el fondo de cada gráfico), cambiaremos también los colores de las líneas, puntos y barras en cada uno de los gráficos por códigos hex a nuestra preferencia:\n"
      ]
    },
    {
      "cell_type": "code",
      "metadata": {
        "id": "rOULYF3ajVAn"
      },
      "source": [
        "# Copiamos los valores de los gráficos anteriores\n",
        "# Creamos la misma disposición de gráficos, con un tamaño de figura de 10x5\n",
        "\n",
        "\n",
        "# Para nuestro primer gráfico, tomamos el conjunto x_1, y_1, y generamos un gráfico de líneas\n",
        "\n",
        "\n",
        "# Para nuestro segundo gráfico, tomamos el conjunto x_2, y_2, y generamos un gráfico de dispersión\n",
        "\n",
        "\n",
        "# Creamos un gráfico con los precios de tres comidas en la esquina inferior izquierda\n",
        "\n",
        "\n",
        "# El gráfico de la esquina inferior derecha será un histograma de valores aleatorios con distribución normal\n"
      ],
      "execution_count": null,
      "outputs": []
    }
  ]
}